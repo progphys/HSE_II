{
 "cells": [
  {
   "cell_type": "markdown",
   "metadata": {},
   "source": [
    "# Задача EDA"
   ]
  },
  {
   "cell_type": "markdown",
   "metadata": {},
   "source": [
    "### Часть 1. Парсинг"
   ]
  },
  {
   "cell_type": "markdown",
   "metadata": {},
   "source": [
    "Нужно распрасить первые 40 страниц с ссылки:\n",
    "https://www.litres.ru/genre/programmirovanie-5272/"
   ]
  },
  {
   "cell_type": "code",
   "execution_count": 5,
   "metadata": {},
   "outputs": [],
   "source": [
    "import requests\n",
    "from bs4 import BeautifulSoup\n",
    "import pandas as pd\n",
    "import numpy as np"
   ]
  },
  {
   "cell_type": "code",
   "execution_count": 90,
   "metadata": {},
   "outputs": [],
   "source": [
    "\n",
    "# Базовый URL сайта (где будут разные страницы)\n",
    "base_url = 'https://www.litres.ru/genre/programmirovanie-5272/?page={}'\n",
    "\n",
    "# Количество страниц для парсинга\n",
    "total_pages = 40\n",
    "\n",
    "# Создаем пустой DataFrame с необходимыми столбцами\n",
    "df = pd.DataFrame(columns=[\n",
    "    'Название', 'Автор', 'Ссылка', 'Рейтинг', 'Количество голосов', \n",
    "    'Цена', 'Количество страниц', 'Количество отзывов', 'Текст отзывов', 'Возраст', 'Год'\n",
    "])\n",
    "\n",
    "# Итерация по страницам\n",
    "for page in range(1, total_pages + 1):\n",
    "    # Формируем URL для каждой страницы\n",
    "    url = base_url.format(page)\n",
    "    \n",
    "    # Делаем запрос к странице\n",
    "    response = requests.get(url)\n",
    "    \n",
    "    # Если успешный запрос\n",
    "    if response.status_code == 200:\n",
    "        # Создаем объект BeautifulSoup для парсинга страницы\n",
    "        soup = BeautifulSoup(response.content, 'html.parser')\n",
    "        \n",
    "        # Найти класс-обертку, который содержит нужные данные\n",
    "        wrapper = soup.find(class_='ArtsGrid_grid__K8Emb')  # Замените wrapper-class на нужный класс\n",
    "        \n",
    "        # Проверяем, нашли ли обертку\n",
    "        if wrapper:\n",
    "            # Находим все нужные элементы внутри обертки\n",
    "            items = wrapper.find_all(class_='ArtDefault_wrapper__VmWpW ArtDefault_wrapper__adaptive__VW5z0')  # Замените item-class на нужный класс\n",
    "            \n",
    "            # Итерация по найденным элементам\n",
    "            for item in items:\n",
    "                # Извлекаем данные из каждого элемента\n",
    "                name = item.find(class_='ArtInfo_title__h_5Ay').text if item.find(class_='ArtInfo_title__h_5Ay') else np.nan\n",
    "                author = item.find(class_='ArtInfo_author__0W3GJ').text if item.find(class_='ArtInfo_author__0W3GJ') else np.nan\n",
    "                link = item.find(class_='ArtInfo_wrapper__GoMsb').find('a') \n",
    "                if link and link.has_attr('href'):\n",
    "                    link = 'https://www.litres.ru' + link['href']\n",
    "                else:\n",
    "                    link = np.nan\n",
    "                rat = item.find(class_='ArtRating_wrapper__Luk3f')\n",
    "                rating = rat.find(class_='ArtRating_rating__ntve8').text if rat else np.nan\n",
    "                rating_count = rat.find(class_='ArtRating_votes__MIJS1').text if rat and rat.find(class_='ArtRating_votes__MIJS1') else np.nan\n",
    "                price = item.find(class_='ArtPriceFooter_ArtPriceFooterPrices__final__7AMjB').text if item.find(class_='ArtPriceFooter_ArtPriceFooterPrices__final__7AMjB') else np.nan\n",
    "\n",
    "                # Переход на страницу книги для получения дополнительной информации\n",
    "                soup1 = BeautifulSoup(requests.get(link).content, 'html.parser')\n",
    "                \n",
    "                # Получаем количество страниц\n",
    "                pages_count = soup1.find(class_='BookCard_book__preview__data__XjF_j').find('p').text if soup1.find(class_='BookCard_book__preview__data__XjF_j') else np.nan\n",
    "                \n",
    "                # Получаем количество отзывов\n",
    "                review_count = soup1.find(class_='CommentSystem_commentsCount__woGh3').text if soup1.find(class_='CommentSystem_commentsCount__woGh3') else np.nan\n",
    "                \n",
    "                # Получаем текст отзывов\n",
    "                text_reviews = [y.text for y in soup1.find_all(class_='Comment_reviewText__PEkHn')]\n",
    "                \n",
    "                # Находим элементы с характеристиками\n",
    "                characteristics_titles = soup1.find_all(class_='CharacteristicsBlock_characteristic__title__atG_Z')\n",
    "                \n",
    "                # Ищем индексы для 'Дата написания' и 'Возрастное ограничение'\n",
    "                index_date = -1\n",
    "                index_age = -1\n",
    "\n",
    "                for i, title in enumerate(characteristics_titles):\n",
    "                    if 'Дата написания' in title.text:\n",
    "                        index_date = i\n",
    "                    if 'Возрастное ограничение' in title.text:\n",
    "                        index_age = i\n",
    "\n",
    "                # Получаем возрастное ограничение\n",
    "                age = np.nan\n",
    "                if index_age != -1:\n",
    "                    age = soup1.find_all(class_='CharacteristicsBlock_characteristic__4pi7v')[index_age].text\n",
    "                \n",
    "                # Получаем год написания\n",
    "                year = np.nan\n",
    "                if index_date != -1:\n",
    "                    year = soup1.find_all(class_='CharacteristicsBlock_characteristic__4pi7v')[index_date].text\n",
    "\n",
    "                # Добавляем данные в список строк для последующего объединения\n",
    "                new_row = pd.DataFrame({\n",
    "                    'Название': [name],\n",
    "                    'Автор': [author],\n",
    "                    'Ссылка': [link],\n",
    "                    'Рейтинг': [rating],\n",
    "                    'Количество голосов': [rating_count],\n",
    "                    'Цена': [price],\n",
    "                    'Количество страниц': [pages_count],\n",
    "                    'Количество отзывов': [review_count],\n",
    "                    'Текст отзывов': [text_reviews],\n",
    "                    'Возраст': [age],\n",
    "                    'Год': [year]\n",
    "                })\n",
    "\n",
    "                # Объединяем новый ряд с основным DataFrame\n",
    "                df = pd.concat([df, new_row], ignore_index=True)\n",
    "    else:\n",
    "        print(f\"Не удалось получить страницу {page}\")\n",
    "\n",
    "# Сохраняем DataFrame в CSV файл\n",
    "df.to_csv('litres_books.csv', index=False)\n"
   ]
  },
  {
   "cell_type": "code",
   "execution_count": 6,
   "metadata": {},
   "outputs": [],
   "source": [
    "# Чтоб не обращаться каждый раз к коду парсера, сохранил csv файл\n",
    "df = pd.read_csv('litres_books.csv')"
   ]
  },
  {
   "cell_type": "markdown",
   "metadata": {},
   "source": [
    "Дообработаем dataframe, уберем лишнее"
   ]
  },
  {
   "cell_type": "code",
   "execution_count": 7,
   "metadata": {},
   "outputs": [],
   "source": [
    "df['Год'] = df['Год'].str.extract(r'(\\d{4})')\n",
    "df['Цена'] = df['Цена'].str.replace('\\xa0', '', regex=False)  # Удаляем неразрывные пробелы\n",
    "df['Цена'] = df['Цена'].str.replace('₽', '', regex=False)  # Удаляем символ \"₽\"\n",
    "df['Цена'] = df['Цена'].str.replace(',', '.', regex=False)  # Заменяем запятую на точку\n",
    "\n",
    "# Преобразование к типу float (для работы с дробными числами)\n",
    "df['Цена'] = df['Цена'].astype(float)\n",
    "df['Количество страниц'] = df['Количество страниц'].str.extract(r'(\\d+)').astype(int)\n"
   ]
  },
  {
   "cell_type": "code",
   "execution_count": 8,
   "metadata": {},
   "outputs": [],
   "source": [
    "def replace_empty_lists(lst):\n",
    "    if not lst:  \n",
    "        return np.nan\n",
    "    return lst\n",
    "\n",
    "\n",
    "df['Текст отзывов'] = df['Текст отзывов'].apply(replace_empty_lists)"
   ]
  },
  {
   "cell_type": "markdown",
   "metadata": {},
   "source": [
    "## Часть 2. EDA"
   ]
  },
  {
   "cell_type": "markdown",
   "metadata": {},
   "source": [
    "1. Выведите первые 5 строк датасета. (0.25). Сколько в нём строк и столбцов (0.25)?"
   ]
  },
  {
   "cell_type": "code",
   "execution_count": 9,
   "metadata": {},
   "outputs": [
    {
     "name": "stdout",
     "output_type": "stream",
     "text": [
      "Первые 5 строк\n"
     ]
    },
    {
     "data": {
      "text/html": [
       "<div>\n",
       "<style scoped>\n",
       "    .dataframe tbody tr th:only-of-type {\n",
       "        vertical-align: middle;\n",
       "    }\n",
       "\n",
       "    .dataframe tbody tr th {\n",
       "        vertical-align: top;\n",
       "    }\n",
       "\n",
       "    .dataframe thead th {\n",
       "        text-align: right;\n",
       "    }\n",
       "</style>\n",
       "<table border=\"1\" class=\"dataframe\">\n",
       "  <thead>\n",
       "    <tr style=\"text-align: right;\">\n",
       "      <th></th>\n",
       "      <th>Название</th>\n",
       "      <th>Автор</th>\n",
       "      <th>Ссылка</th>\n",
       "      <th>Рейтинг</th>\n",
       "      <th>Количество голосов</th>\n",
       "      <th>Цена</th>\n",
       "      <th>Количество страниц</th>\n",
       "      <th>Количество отзывов</th>\n",
       "      <th>Текст отзывов</th>\n",
       "      <th>Возраст</th>\n",
       "      <th>Год</th>\n",
       "    </tr>\n",
       "  </thead>\n",
       "  <tbody>\n",
       "    <tr>\n",
       "      <th>0</th>\n",
       "      <td>Изучаем DDD – предметно-ориентированное проект...</td>\n",
       "      <td>Влад Хононов</td>\n",
       "      <td>https://www.litres.ru/book/vlad-hononov/izucha...</td>\n",
       "      <td>0</td>\n",
       "      <td>NaN</td>\n",
       "      <td>549.0</td>\n",
       "      <td>319</td>\n",
       "      <td>1.0</td>\n",
       "      <td>['Обязательно вернусь, но позжеЭта книга из то...</td>\n",
       "      <td>Возрастное ограничение: 0+</td>\n",
       "      <td>2022</td>\n",
       "    </tr>\n",
       "    <tr>\n",
       "      <th>1</th>\n",
       "      <td>Начинаем программировать на Python</td>\n",
       "      <td>Тони Гэддис</td>\n",
       "      <td>https://www.litres.ru/book/toni-geddis-3249116...</td>\n",
       "      <td>4,9</td>\n",
       "      <td>16.0</td>\n",
       "      <td>599.0</td>\n",
       "      <td>875</td>\n",
       "      <td>6.0</td>\n",
       "      <td>['Шикарная книга! Начал изучать Python самосто...</td>\n",
       "      <td>Возрастное ограничение: 12+</td>\n",
       "      <td>2021</td>\n",
       "    </tr>\n",
       "    <tr>\n",
       "      <th>2</th>\n",
       "      <td>Высоконагруженные приложения. Программирование...</td>\n",
       "      <td>Мартин Клеппман</td>\n",
       "      <td>https://www.litres.ru/book/martin-kleppman-173...</td>\n",
       "      <td>4,0</td>\n",
       "      <td>51.0</td>\n",
       "      <td>799.0</td>\n",
       "      <td>640</td>\n",
       "      <td>11.0</td>\n",
       "      <td>['Не могу что-либо про перевод сказать, читал ...</td>\n",
       "      <td>Возрастное ограничение: 16+</td>\n",
       "      <td>2017</td>\n",
       "    </tr>\n",
       "    <tr>\n",
       "      <th>3</th>\n",
       "      <td>System Design. Подготовка к сложному интервью</td>\n",
       "      <td>Алекс Сюй</td>\n",
       "      <td>https://www.litres.ru/book/aleks-suy/system-de...</td>\n",
       "      <td>3,6</td>\n",
       "      <td>17.0</td>\n",
       "      <td>699.0</td>\n",
       "      <td>304</td>\n",
       "      <td>9.0</td>\n",
       "      <td>['Добротная книга по разработке архитектуры пр...</td>\n",
       "      <td>Возрастное ограничение: 16+</td>\n",
       "      <td>2020</td>\n",
       "    </tr>\n",
       "    <tr>\n",
       "      <th>4</th>\n",
       "      <td>Нейросети начало</td>\n",
       "      <td>Джейд Картер</td>\n",
       "      <td>https://www.litres.ru/book/dzheyd-karter/neyro...</td>\n",
       "      <td>4,9</td>\n",
       "      <td>438.0</td>\n",
       "      <td>690.0</td>\n",
       "      <td>102</td>\n",
       "      <td>37.0</td>\n",
       "      <td>['Книга отличная. Давно хотела понять как все ...</td>\n",
       "      <td>Возрастное ограничение: 12+</td>\n",
       "      <td>2023</td>\n",
       "    </tr>\n",
       "  </tbody>\n",
       "</table>\n",
       "</div>"
      ],
      "text/plain": [
       "                                            Название            Автор  \\\n",
       "0  Изучаем DDD – предметно-ориентированное проект...     Влад Хононов   \n",
       "1                 Начинаем программировать на Python      Тони Гэддис   \n",
       "2  Высоконагруженные приложения. Программирование...  Мартин Клеппман   \n",
       "3      System Design. Подготовка к сложному интервью        Алекс Сюй   \n",
       "4                                   Нейросети начало     Джейд Картер   \n",
       "\n",
       "                                              Ссылка Рейтинг  \\\n",
       "0  https://www.litres.ru/book/vlad-hononov/izucha...       0   \n",
       "1  https://www.litres.ru/book/toni-geddis-3249116...     4,9   \n",
       "2  https://www.litres.ru/book/martin-kleppman-173...     4,0   \n",
       "3  https://www.litres.ru/book/aleks-suy/system-de...     3,6   \n",
       "4  https://www.litres.ru/book/dzheyd-karter/neyro...     4,9   \n",
       "\n",
       "   Количество голосов   Цена  Количество страниц  Количество отзывов  \\\n",
       "0                 NaN  549.0                 319                 1.0   \n",
       "1                16.0  599.0                 875                 6.0   \n",
       "2                51.0  799.0                 640                11.0   \n",
       "3                17.0  699.0                 304                 9.0   \n",
       "4               438.0  690.0                 102                37.0   \n",
       "\n",
       "                                       Текст отзывов  \\\n",
       "0  ['Обязательно вернусь, но позжеЭта книга из то...   \n",
       "1  ['Шикарная книга! Начал изучать Python самосто...   \n",
       "2  ['Не могу что-либо про перевод сказать, читал ...   \n",
       "3  ['Добротная книга по разработке архитектуры пр...   \n",
       "4  ['Книга отличная. Давно хотела понять как все ...   \n",
       "\n",
       "                       Возраст   Год  \n",
       "0   Возрастное ограничение: 0+  2022  \n",
       "1  Возрастное ограничение: 12+  2021  \n",
       "2  Возрастное ограничение: 16+  2017  \n",
       "3  Возрастное ограничение: 16+  2020  \n",
       "4  Возрастное ограничение: 12+  2023  "
      ]
     },
     "execution_count": 9,
     "metadata": {},
     "output_type": "execute_result"
    }
   ],
   "source": [
    "print(f'Первые 5 строк')\n",
    "df.head(5)"
   ]
  },
  {
   "cell_type": "code",
   "execution_count": 10,
   "metadata": {},
   "outputs": [
    {
     "name": "stdout",
     "output_type": "stream",
     "text": [
      "Количество строк: 960\n",
      "Количество столбцов: 11\n"
     ]
    }
   ],
   "source": [
    "print(f'Количество строк: {len(df)}')\n",
    "print(f'Количество столбцов: {len(df.columns)}')"
   ]
  },
  {
   "cell_type": "markdown",
   "metadata": {},
   "source": [
    "2. Есть ли в датасете пропуски? (0.5)"
   ]
  },
  {
   "cell_type": "code",
   "execution_count": 11,
   "metadata": {},
   "outputs": [
    {
     "name": "stdout",
     "output_type": "stream",
     "text": [
      "<class 'pandas.core.frame.DataFrame'>\n",
      "RangeIndex: 960 entries, 0 to 959\n",
      "Data columns (total 11 columns):\n",
      " #   Column              Non-Null Count  Dtype  \n",
      "---  ------              --------------  -----  \n",
      " 0   Название            960 non-null    object \n",
      " 1   Автор               952 non-null    object \n",
      " 2   Ссылка              960 non-null    object \n",
      " 3   Рейтинг             960 non-null    object \n",
      " 4   Количество голосов  671 non-null    float64\n",
      " 5   Цена                936 non-null    float64\n",
      " 6   Количество страниц  960 non-null    int64  \n",
      " 7   Количество отзывов  519 non-null    float64\n",
      " 8   Текст отзывов       960 non-null    object \n",
      " 9   Возраст             960 non-null    object \n",
      " 10  Год                 914 non-null    object \n",
      "dtypes: float64(3), int64(1), object(7)\n",
      "memory usage: 82.6+ KB\n"
     ]
    }
   ],
   "source": [
    "df.info()"
   ]
  },
  {
   "cell_type": "markdown",
   "metadata": {},
   "source": [
    "Странно, что не везде есть цены, посмотрим, что там с версткой:"
   ]
  },
  {
   "cell_type": "code",
   "execution_count": 40,
   "metadata": {},
   "outputs": [
    {
     "data": {
      "text/html": [
       "<div>\n",
       "<style scoped>\n",
       "    .dataframe tbody tr th:only-of-type {\n",
       "        vertical-align: middle;\n",
       "    }\n",
       "\n",
       "    .dataframe tbody tr th {\n",
       "        vertical-align: top;\n",
       "    }\n",
       "\n",
       "    .dataframe thead th {\n",
       "        text-align: right;\n",
       "    }\n",
       "</style>\n",
       "<table border=\"1\" class=\"dataframe\">\n",
       "  <thead>\n",
       "    <tr style=\"text-align: right;\">\n",
       "      <th></th>\n",
       "      <th>Название</th>\n",
       "      <th>Автор</th>\n",
       "      <th>Ссылка</th>\n",
       "      <th>Рейтинг</th>\n",
       "      <th>Количество голосов</th>\n",
       "      <th>Цена</th>\n",
       "      <th>Количество страниц</th>\n",
       "      <th>Количество отзывов</th>\n",
       "      <th>Текст отзывов</th>\n",
       "      <th>Возраст</th>\n",
       "      <th>Год</th>\n",
       "    </tr>\n",
       "  </thead>\n",
       "  <tbody>\n",
       "    <tr>\n",
       "      <th>423</th>\n",
       "      <td>Базовые знания тестировщика веб-приложений</td>\n",
       "      <td>Марина Охапкина</td>\n",
       "      <td>https://www.litres.ru/book/vadim-ohapkin/bazov...</td>\n",
       "      <td>4.4</td>\n",
       "      <td>237.0</td>\n",
       "      <td>NaN</td>\n",
       "      <td>67</td>\n",
       "      <td>25.0</td>\n",
       "      <td>['Из любопытства просмотрела книгу и, как опыт...</td>\n",
       "      <td>Возрастное ограничение: 12+</td>\n",
       "      <td>2015.0</td>\n",
       "    </tr>\n",
       "    <tr>\n",
       "      <th>424</th>\n",
       "      <td>Python для детей. Анимация с черепашьей графикой</td>\n",
       "      <td>Виктор Рабинович</td>\n",
       "      <td>https://www.litres.ru/book/viktor-rabinovich/p...</td>\n",
       "      <td>4.0</td>\n",
       "      <td>24.0</td>\n",
       "      <td>NaN</td>\n",
       "      <td>61</td>\n",
       "      <td>2.0</td>\n",
       "      <td>['мне понравилось, рекомендую для работы, можн...</td>\n",
       "      <td>Возрастное ограничение: 12+</td>\n",
       "      <td>2020.0</td>\n",
       "    </tr>\n",
       "    <tr>\n",
       "      <th>425</th>\n",
       "      <td>Программирование на Python с нуля</td>\n",
       "      <td>Максим Кононенко</td>\n",
       "      <td>https://www.litres.ru/book/maksim-kononenko-32...</td>\n",
       "      <td>3.4</td>\n",
       "      <td>30.0</td>\n",
       "      <td>NaN</td>\n",
       "      <td>10</td>\n",
       "      <td>3.0</td>\n",
       "      <td>['Действительно полезная книга. Очень помогла ...</td>\n",
       "      <td>Возрастное ограничение: 0+</td>\n",
       "      <td>2023.0</td>\n",
       "    </tr>\n",
       "    <tr>\n",
       "      <th>431</th>\n",
       "      <td>Занимательный Питон</td>\n",
       "      <td>nikf</td>\n",
       "      <td>https://www.litres.ru/book/nikf/zanimatelnyy-p...</td>\n",
       "      <td>3.6</td>\n",
       "      <td>42.0</td>\n",
       "      <td>NaN</td>\n",
       "      <td>7</td>\n",
       "      <td>6.0</td>\n",
       "      <td>['Слишком кратко для начинающих,так только на ...</td>\n",
       "      <td>Возрастное ограничение: 6+</td>\n",
       "      <td>2022.0</td>\n",
       "    </tr>\n",
       "    <tr>\n",
       "      <th>434</th>\n",
       "      <td>Программирование приложений для мобильных устр...</td>\n",
       "      <td>Евгений Владимирович Сенько</td>\n",
       "      <td>https://www.litres.ru/book/evgeniy-senko/progr...</td>\n",
       "      <td>4.1</td>\n",
       "      <td>83.0</td>\n",
       "      <td>NaN</td>\n",
       "      <td>129</td>\n",
       "      <td>6.0</td>\n",
       "      <td>['В книге рассказано и показано программирован...</td>\n",
       "      <td>Возрастное ограничение: 12+</td>\n",
       "      <td>2015.0</td>\n",
       "    </tr>\n",
       "    <tr>\n",
       "      <th>438</th>\n",
       "      <td>Устойчивый веб-дизайн</td>\n",
       "      <td>Jeremy Keith</td>\n",
       "      <td>https://www.litres.ru/book/jeremy-keith-322601...</td>\n",
       "      <td>3.9</td>\n",
       "      <td>8.0</td>\n",
       "      <td>NaN</td>\n",
       "      <td>83</td>\n",
       "      <td>2.0</td>\n",
       "      <td>['Оценка 0. Это простое чтиво с какими-то слов...</td>\n",
       "      <td>Возрастное ограничение: 12+</td>\n",
       "      <td>2022.0</td>\n",
       "    </tr>\n",
       "    <tr>\n",
       "      <th>440</th>\n",
       "      <td>Как написать и продать свой PHP скрипт</td>\n",
       "      <td>Самуэль Акопян</td>\n",
       "      <td>https://www.litres.ru/book/samuel-akopyan/kak-...</td>\n",
       "      <td>4.6</td>\n",
       "      <td>10.0</td>\n",
       "      <td>NaN</td>\n",
       "      <td>95</td>\n",
       "      <td>3.0</td>\n",
       "      <td>['Вот уж что не ожидал, так обнаружить подобну...</td>\n",
       "      <td>Возрастное ограничение: 12+</td>\n",
       "      <td>2021.0</td>\n",
       "    </tr>\n",
       "    <tr>\n",
       "      <th>443</th>\n",
       "      <td>Брать или не брать? или Как собеседовать разра...</td>\n",
       "      <td>Константин Евгеньевич Борисов</td>\n",
       "      <td>https://www.litres.ru/book/konstantin-evgenevi...</td>\n",
       "      <td>4.6</td>\n",
       "      <td>98.0</td>\n",
       "      <td>NaN</td>\n",
       "      <td>106</td>\n",
       "      <td>12.0</td>\n",
       "      <td>['Мне книга понравилась.Она недлинная, прочита...</td>\n",
       "      <td>Возрастное ограничение: 18+</td>\n",
       "      <td>2018.0</td>\n",
       "    </tr>\n",
       "    <tr>\n",
       "      <th>445</th>\n",
       "      <td>Табличный ПЛК.Табличное программирование контр...</td>\n",
       "      <td>Владимир Васильевич Стретенцев</td>\n",
       "      <td>https://www.litres.ru/book/stretencev-vasilevi...</td>\n",
       "      <td>5.0</td>\n",
       "      <td>5.0</td>\n",
       "      <td>NaN</td>\n",
       "      <td>141</td>\n",
       "      <td>1.0</td>\n",
       "      <td>['Очень своевременная книга. Крайне актуальна ...</td>\n",
       "      <td>Возрастное ограничение: 12+</td>\n",
       "      <td>2023.0</td>\n",
       "    </tr>\n",
       "    <tr>\n",
       "      <th>446</th>\n",
       "      <td>Обратные вызовы в C++</td>\n",
       "      <td>Виталий Евгеньевич Ткаченко</td>\n",
       "      <td>https://www.litres.ru/book/vitaliy-evgenevich-...</td>\n",
       "      <td>5.0</td>\n",
       "      <td>2.0</td>\n",
       "      <td>NaN</td>\n",
       "      <td>206</td>\n",
       "      <td>1.0</td>\n",
       "      <td>['Книга прекрасно раскрывает тему. Не просто п...</td>\n",
       "      <td>Возрастное ограничение: 12+</td>\n",
       "      <td>2020.0</td>\n",
       "    </tr>\n",
       "    <tr>\n",
       "      <th>448</th>\n",
       "      <td>Путеводитель в мир ручного тестирования</td>\n",
       "      <td>QABook</td>\n",
       "      <td>https://www.litres.ru/book/maksim-strukov/pute...</td>\n",
       "      <td>4.7</td>\n",
       "      <td>10.0</td>\n",
       "      <td>NaN</td>\n",
       "      <td>50</td>\n",
       "      <td>4.0</td>\n",
       "      <td>['Хорошо написанная книга. Очень обстоятельно ...</td>\n",
       "      <td>Возрастное ограничение: 12+</td>\n",
       "      <td>2023.0</td>\n",
       "    </tr>\n",
       "    <tr>\n",
       "      <th>453</th>\n",
       "      <td>Как хорошему разработчику не стать плохим мене...</td>\n",
       "      <td>Константин Евгеньевич Борисов</td>\n",
       "      <td>https://www.litres.ru/book/konstantin-evgenevi...</td>\n",
       "      <td>4.8</td>\n",
       "      <td>37.0</td>\n",
       "      <td>NaN</td>\n",
       "      <td>153</td>\n",
       "      <td>5.0</td>\n",
       "      <td>['Книга про менеджмент в IT. Чем он отличается...</td>\n",
       "      <td>Возрастное ограничение: 18+</td>\n",
       "      <td>2020.0</td>\n",
       "    </tr>\n",
       "    <tr>\n",
       "      <th>469</th>\n",
       "      <td>PHP. Разработка модуля комментариев для сайта</td>\n",
       "      <td>Дмитрий Приходько</td>\n",
       "      <td>https://www.litres.ru/book/dmitriy-prihodko-31...</td>\n",
       "      <td>5.0</td>\n",
       "      <td>3.0</td>\n",
       "      <td>NaN</td>\n",
       "      <td>129</td>\n",
       "      <td>2.0</td>\n",
       "      <td>['Книга предназначена для читателей, знакомых ...</td>\n",
       "      <td>Возрастное ограничение: 6+</td>\n",
       "      <td>2021.0</td>\n",
       "    </tr>\n",
       "    <tr>\n",
       "      <th>500</th>\n",
       "      <td>Как я делаю мультфильмы</td>\n",
       "      <td>Андрей Шумин</td>\n",
       "      <td>https://www.litres.ru/book/andrey-shumin-17006...</td>\n",
       "      <td>4.0</td>\n",
       "      <td>4.0</td>\n",
       "      <td>NaN</td>\n",
       "      <td>13</td>\n",
       "      <td>1.0</td>\n",
       "      <td>['В книге всего 13 страниц. На 13-и этих стран...</td>\n",
       "      <td>Возрастное ограничение: 6+</td>\n",
       "      <td>2024.0</td>\n",
       "    </tr>\n",
       "    <tr>\n",
       "      <th>503</th>\n",
       "      <td>Теория принятия решений</td>\n",
       "      <td>Виктор Горелик</td>\n",
       "      <td>https://www.litres.ru/book/v-a-gorelik/teoriya...</td>\n",
       "      <td>4.7</td>\n",
       "      <td>3.0</td>\n",
       "      <td>NaN</td>\n",
       "      <td>154</td>\n",
       "      <td>NaN</td>\n",
       "      <td>[]</td>\n",
       "      <td>Возрастное ограничение: 0+</td>\n",
       "      <td>2016.0</td>\n",
       "    </tr>\n",
       "    <tr>\n",
       "      <th>506</th>\n",
       "      <td>QA Engineer</td>\n",
       "      <td>Михаил Семынин</td>\n",
       "      <td>https://www.litres.ru/book/mihail-semynin/qa-e...</td>\n",
       "      <td>4.9</td>\n",
       "      <td>45.0</td>\n",
       "      <td>NaN</td>\n",
       "      <td>126</td>\n",
       "      <td>1.0</td>\n",
       "      <td>['Действительно профессиональная книга, написа...</td>\n",
       "      <td>Возрастное ограничение: 12+</td>\n",
       "      <td>2024.0</td>\n",
       "    </tr>\n",
       "    <tr>\n",
       "      <th>531</th>\n",
       "      <td>Программирование на Delphi 7</td>\n",
       "      <td>Сергей Николаевич Талипов</td>\n",
       "      <td>https://www.litres.ru/book/sergey-nikolaevich-...</td>\n",
       "      <td>5.0</td>\n",
       "      <td>6.0</td>\n",
       "      <td>NaN</td>\n",
       "      <td>84</td>\n",
       "      <td>1.0</td>\n",
       "      <td>['Очень помогла в колледже когда устроился. Оч...</td>\n",
       "      <td>Возрастное ограничение: 12+</td>\n",
       "      <td>2012.0</td>\n",
       "    </tr>\n",
       "    <tr>\n",
       "      <th>548</th>\n",
       "      <td>Базы данных на Delphi 7</td>\n",
       "      <td>Сергей Николаевич Талипов</td>\n",
       "      <td>https://www.litres.ru/book/sergey-nikolaevich-...</td>\n",
       "      <td>5.0</td>\n",
       "      <td>2.0</td>\n",
       "      <td>NaN</td>\n",
       "      <td>39</td>\n",
       "      <td>NaN</td>\n",
       "      <td>[]</td>\n",
       "      <td>Возрастное ограничение: 12+</td>\n",
       "      <td>2012.0</td>\n",
       "    </tr>\n",
       "    <tr>\n",
       "      <th>550</th>\n",
       "      <td>Компьютерная алгебра в задачах</td>\n",
       "      <td>И. А. Шилин</td>\n",
       "      <td>https://www.litres.ru/book/i-a-shilin/komputer...</td>\n",
       "      <td>5.0</td>\n",
       "      <td>1.0</td>\n",
       "      <td>NaN</td>\n",
       "      <td>57</td>\n",
       "      <td>NaN</td>\n",
       "      <td>[]</td>\n",
       "      <td>Возрастное ограничение: 0+</td>\n",
       "      <td>2018.0</td>\n",
       "    </tr>\n",
       "    <tr>\n",
       "      <th>554</th>\n",
       "      <td>Иcпользование API на Delphi 7</td>\n",
       "      <td>Сергей Николаевич Талипов</td>\n",
       "      <td>https://www.litres.ru/book/sergey-nikolaevich-...</td>\n",
       "      <td>5.0</td>\n",
       "      <td>3.0</td>\n",
       "      <td>NaN</td>\n",
       "      <td>27</td>\n",
       "      <td>NaN</td>\n",
       "      <td>[]</td>\n",
       "      <td>Возрастное ограничение: 12+</td>\n",
       "      <td>2012.0</td>\n",
       "    </tr>\n",
       "    <tr>\n",
       "      <th>557</th>\n",
       "      <td>Elastix – общайтесь свободно. Том 2</td>\n",
       "      <td>Владислав Юров</td>\n",
       "      <td>https://www.litres.ru/book/vladislav-urov-2147...</td>\n",
       "      <td>0.0</td>\n",
       "      <td>NaN</td>\n",
       "      <td>NaN</td>\n",
       "      <td>166</td>\n",
       "      <td>NaN</td>\n",
       "      <td>[]</td>\n",
       "      <td>Возрастное ограничение: 12+</td>\n",
       "      <td>2015.0</td>\n",
       "    </tr>\n",
       "    <tr>\n",
       "      <th>685</th>\n",
       "      <td>Нажми, чтобы начать</td>\n",
       "      <td>Студия Red Barn</td>\n",
       "      <td>https://www.litres.ru/podcast/redbarn/nazhmi-c...</td>\n",
       "      <td>5.0</td>\n",
       "      <td>6.0</td>\n",
       "      <td>NaN</td>\n",
       "      <td>12</td>\n",
       "      <td>1.0</td>\n",
       "      <td>['Последнее время подсел на подкасты  Семёна О...</td>\n",
       "      <td>Возрастное ограничение: 12+</td>\n",
       "      <td>NaN</td>\n",
       "    </tr>\n",
       "    <tr>\n",
       "      <th>686</th>\n",
       "      <td>Краткий справочник по нейросетям: как тебя зам...</td>\n",
       "      <td>Денис Владимирович Шумейко</td>\n",
       "      <td>https://www.litres.ru/book/denis-vladimirovich...</td>\n",
       "      <td>0.0</td>\n",
       "      <td>NaN</td>\n",
       "      <td>NaN</td>\n",
       "      <td>331</td>\n",
       "      <td>NaN</td>\n",
       "      <td>[]</td>\n",
       "      <td>Возрастное ограничение: 12+</td>\n",
       "      <td>2024.0</td>\n",
       "    </tr>\n",
       "    <tr>\n",
       "      <th>687</th>\n",
       "      <td>Механика Вычисляющего Пространства. Как Простр...</td>\n",
       "      <td>Олег Олегович</td>\n",
       "      <td>https://www.litres.ru/book/oleg-olegovich/meha...</td>\n",
       "      <td>0.0</td>\n",
       "      <td>NaN</td>\n",
       "      <td>NaN</td>\n",
       "      <td>75</td>\n",
       "      <td>NaN</td>\n",
       "      <td>[]</td>\n",
       "      <td>Возрастное ограничение: 12+</td>\n",
       "      <td>2024.0</td>\n",
       "    </tr>\n",
       "  </tbody>\n",
       "</table>\n",
       "</div>"
      ],
      "text/plain": [
       "                                              Название  \\\n",
       "423         Базовые знания тестировщика веб-приложений   \n",
       "424   Python для детей. Анимация с черепашьей графикой   \n",
       "425                  Программирование на Python с нуля   \n",
       "431                                Занимательный Питон   \n",
       "434  Программирование приложений для мобильных устр...   \n",
       "438                              Устойчивый веб-дизайн   \n",
       "440             Как написать и продать свой PHP скрипт   \n",
       "443  Брать или не брать? или Как собеседовать разра...   \n",
       "445  Табличный ПЛК.Табличное программирование контр...   \n",
       "446                              Обратные вызовы в C++   \n",
       "448            Путеводитель в мир ручного тестирования   \n",
       "453  Как хорошему разработчику не стать плохим мене...   \n",
       "469      PHP. Разработка модуля комментариев для сайта   \n",
       "500                            Как я делаю мультфильмы   \n",
       "503                            Теория принятия решений   \n",
       "506                                        QA Engineer   \n",
       "531                       Программирование на Delphi 7   \n",
       "548                            Базы данных на Delphi 7   \n",
       "550                     Компьютерная алгебра в задачах   \n",
       "554                      Иcпользование API на Delphi 7   \n",
       "557                Elastix – общайтесь свободно. Том 2   \n",
       "685                                Нажми, чтобы начать   \n",
       "686  Краткий справочник по нейросетям: как тебя зам...   \n",
       "687  Механика Вычисляющего Пространства. Как Простр...   \n",
       "\n",
       "                              Автор  \\\n",
       "423                 Марина Охапкина   \n",
       "424                Виктор Рабинович   \n",
       "425                Максим Кононенко   \n",
       "431                            nikf   \n",
       "434     Евгений Владимирович Сенько   \n",
       "438                    Jeremy Keith   \n",
       "440                  Самуэль Акопян   \n",
       "443   Константин Евгеньевич Борисов   \n",
       "445  Владимир Васильевич Стретенцев   \n",
       "446     Виталий Евгеньевич Ткаченко   \n",
       "448                          QABook   \n",
       "453   Константин Евгеньевич Борисов   \n",
       "469               Дмитрий Приходько   \n",
       "500                    Андрей Шумин   \n",
       "503                  Виктор Горелик   \n",
       "506                  Михаил Семынин   \n",
       "531       Сергей Николаевич Талипов   \n",
       "548       Сергей Николаевич Талипов   \n",
       "550                     И. А. Шилин   \n",
       "554       Сергей Николаевич Талипов   \n",
       "557                  Владислав Юров   \n",
       "685                 Студия Red Barn   \n",
       "686      Денис Владимирович Шумейко   \n",
       "687                   Олег Олегович   \n",
       "\n",
       "                                                Ссылка  Рейтинг  \\\n",
       "423  https://www.litres.ru/book/vadim-ohapkin/bazov...      4.4   \n",
       "424  https://www.litres.ru/book/viktor-rabinovich/p...      4.0   \n",
       "425  https://www.litres.ru/book/maksim-kononenko-32...      3.4   \n",
       "431  https://www.litres.ru/book/nikf/zanimatelnyy-p...      3.6   \n",
       "434  https://www.litres.ru/book/evgeniy-senko/progr...      4.1   \n",
       "438  https://www.litres.ru/book/jeremy-keith-322601...      3.9   \n",
       "440  https://www.litres.ru/book/samuel-akopyan/kak-...      4.6   \n",
       "443  https://www.litres.ru/book/konstantin-evgenevi...      4.6   \n",
       "445  https://www.litres.ru/book/stretencev-vasilevi...      5.0   \n",
       "446  https://www.litres.ru/book/vitaliy-evgenevich-...      5.0   \n",
       "448  https://www.litres.ru/book/maksim-strukov/pute...      4.7   \n",
       "453  https://www.litres.ru/book/konstantin-evgenevi...      4.8   \n",
       "469  https://www.litres.ru/book/dmitriy-prihodko-31...      5.0   \n",
       "500  https://www.litres.ru/book/andrey-shumin-17006...      4.0   \n",
       "503  https://www.litres.ru/book/v-a-gorelik/teoriya...      4.7   \n",
       "506  https://www.litres.ru/book/mihail-semynin/qa-e...      4.9   \n",
       "531  https://www.litres.ru/book/sergey-nikolaevich-...      5.0   \n",
       "548  https://www.litres.ru/book/sergey-nikolaevich-...      5.0   \n",
       "550  https://www.litres.ru/book/i-a-shilin/komputer...      5.0   \n",
       "554  https://www.litres.ru/book/sergey-nikolaevich-...      5.0   \n",
       "557  https://www.litres.ru/book/vladislav-urov-2147...      0.0   \n",
       "685  https://www.litres.ru/podcast/redbarn/nazhmi-c...      5.0   \n",
       "686  https://www.litres.ru/book/denis-vladimirovich...      0.0   \n",
       "687  https://www.litres.ru/book/oleg-olegovich/meha...      0.0   \n",
       "\n",
       "     Количество голосов  Цена  Количество страниц  Количество отзывов  \\\n",
       "423               237.0   NaN                  67                25.0   \n",
       "424                24.0   NaN                  61                 2.0   \n",
       "425                30.0   NaN                  10                 3.0   \n",
       "431                42.0   NaN                   7                 6.0   \n",
       "434                83.0   NaN                 129                 6.0   \n",
       "438                 8.0   NaN                  83                 2.0   \n",
       "440                10.0   NaN                  95                 3.0   \n",
       "443                98.0   NaN                 106                12.0   \n",
       "445                 5.0   NaN                 141                 1.0   \n",
       "446                 2.0   NaN                 206                 1.0   \n",
       "448                10.0   NaN                  50                 4.0   \n",
       "453                37.0   NaN                 153                 5.0   \n",
       "469                 3.0   NaN                 129                 2.0   \n",
       "500                 4.0   NaN                  13                 1.0   \n",
       "503                 3.0   NaN                 154                 NaN   \n",
       "506                45.0   NaN                 126                 1.0   \n",
       "531                 6.0   NaN                  84                 1.0   \n",
       "548                 2.0   NaN                  39                 NaN   \n",
       "550                 1.0   NaN                  57                 NaN   \n",
       "554                 3.0   NaN                  27                 NaN   \n",
       "557                 NaN   NaN                 166                 NaN   \n",
       "685                 6.0   NaN                  12                 1.0   \n",
       "686                 NaN   NaN                 331                 NaN   \n",
       "687                 NaN   NaN                  75                 NaN   \n",
       "\n",
       "                                         Текст отзывов  \\\n",
       "423  ['Из любопытства просмотрела книгу и, как опыт...   \n",
       "424  ['мне понравилось, рекомендую для работы, можн...   \n",
       "425  ['Действительно полезная книга. Очень помогла ...   \n",
       "431  ['Слишком кратко для начинающих,так только на ...   \n",
       "434  ['В книге рассказано и показано программирован...   \n",
       "438  ['Оценка 0. Это простое чтиво с какими-то слов...   \n",
       "440  ['Вот уж что не ожидал, так обнаружить подобну...   \n",
       "443  ['Мне книга понравилась.Она недлинная, прочита...   \n",
       "445  ['Очень своевременная книга. Крайне актуальна ...   \n",
       "446  ['Книга прекрасно раскрывает тему. Не просто п...   \n",
       "448  ['Хорошо написанная книга. Очень обстоятельно ...   \n",
       "453  ['Книга про менеджмент в IT. Чем он отличается...   \n",
       "469  ['Книга предназначена для читателей, знакомых ...   \n",
       "500  ['В книге всего 13 страниц. На 13-и этих стран...   \n",
       "503                                                 []   \n",
       "506  ['Действительно профессиональная книга, написа...   \n",
       "531  ['Очень помогла в колледже когда устроился. Оч...   \n",
       "548                                                 []   \n",
       "550                                                 []   \n",
       "554                                                 []   \n",
       "557                                                 []   \n",
       "685  ['Последнее время подсел на подкасты  Семёна О...   \n",
       "686                                                 []   \n",
       "687                                                 []   \n",
       "\n",
       "                         Возраст     Год  \n",
       "423  Возрастное ограничение: 12+  2015.0  \n",
       "424  Возрастное ограничение: 12+  2020.0  \n",
       "425   Возрастное ограничение: 0+  2023.0  \n",
       "431   Возрастное ограничение: 6+  2022.0  \n",
       "434  Возрастное ограничение: 12+  2015.0  \n",
       "438  Возрастное ограничение: 12+  2022.0  \n",
       "440  Возрастное ограничение: 12+  2021.0  \n",
       "443  Возрастное ограничение: 18+  2018.0  \n",
       "445  Возрастное ограничение: 12+  2023.0  \n",
       "446  Возрастное ограничение: 12+  2020.0  \n",
       "448  Возрастное ограничение: 12+  2023.0  \n",
       "453  Возрастное ограничение: 18+  2020.0  \n",
       "469   Возрастное ограничение: 6+  2021.0  \n",
       "500   Возрастное ограничение: 6+  2024.0  \n",
       "503   Возрастное ограничение: 0+  2016.0  \n",
       "506  Возрастное ограничение: 12+  2024.0  \n",
       "531  Возрастное ограничение: 12+  2012.0  \n",
       "548  Возрастное ограничение: 12+  2012.0  \n",
       "550   Возрастное ограничение: 0+  2018.0  \n",
       "554  Возрастное ограничение: 12+  2012.0  \n",
       "557  Возрастное ограничение: 12+  2015.0  \n",
       "685  Возрастное ограничение: 12+     NaN  \n",
       "686  Возрастное ограничение: 12+  2024.0  \n",
       "687  Возрастное ограничение: 12+  2024.0  "
      ]
     },
     "execution_count": 40,
     "metadata": {},
     "output_type": "execute_result"
    }
   ],
   "source": [
    "# Найти строки, где в столбце 'Цена' значения отсутствуют (NaN)\n",
    "df[df['Цена'].isna()]"
   ]
  },
  {
   "cell_type": "markdown",
   "metadata": {},
   "source": [
    "Видимо это бесплатные книги.\n",
    "Остальные пропуски это проблема в составление карточек продуктов, и таких значений не очень много."
   ]
  },
  {
   "cell_type": "markdown",
   "metadata": {},
   "source": [
    "3. Проверьте типы данных. Если это необходимо, приведите к типам int и float те столбцы, с которыми понадобится работать как с числами. (1)."
   ]
  },
  {
   "cell_type": "code",
   "execution_count": 13,
   "metadata": {},
   "outputs": [
    {
     "data": {
      "text/plain": [
       "Название               object\n",
       "Автор                  object\n",
       "Ссылка                 object\n",
       "Рейтинг                object\n",
       "Количество голосов    float64\n",
       "Цена                  float64\n",
       "Количество страниц      int64\n",
       "Количество отзывов    float64\n",
       "Текст отзывов          object\n",
       "Возраст                object\n",
       "Год                    object\n",
       "dtype: object"
      ]
     },
     "execution_count": 13,
     "metadata": {},
     "output_type": "execute_result"
    }
   ],
   "source": [
    "df.dtypes"
   ]
  },
  {
   "cell_type": "markdown",
   "metadata": {},
   "source": [
    "Переведем некоторые колонки в необходимые типы данных"
   ]
  },
  {
   "cell_type": "code",
   "execution_count": 14,
   "metadata": {},
   "outputs": [],
   "source": [
    "df['Рейтинг'] = df['Рейтинг'].str.replace(',', '.', regex=False)  # Заменяем запятую на точку\n",
    "df['Рейтинг'] = df['Рейтинг'].astype(float)"
   ]
  },
  {
   "cell_type": "code",
   "execution_count": 15,
   "metadata": {},
   "outputs": [],
   "source": [
    "df['Количество голосов'] = df['Количество голосов'].astype(float)\n",
    "df['Количество отзывов'] = df['Количество отзывов'].astype(float)\n",
    "df['Год'] = df['Год'].astype(float)"
   ]
  },
  {
   "cell_type": "code",
   "execution_count": 16,
   "metadata": {},
   "outputs": [
    {
     "data": {
      "text/plain": [
       "Название               object\n",
       "Автор                  object\n",
       "Ссылка                 object\n",
       "Рейтинг               float64\n",
       "Количество голосов    float64\n",
       "Цена                  float64\n",
       "Количество страниц      int64\n",
       "Количество отзывов    float64\n",
       "Текст отзывов          object\n",
       "Возраст                object\n",
       "Год                   float64\n",
       "dtype: object"
      ]
     },
     "execution_count": 16,
     "metadata": {},
     "output_type": "execute_result"
    }
   ],
   "source": [
    "df.dtypes"
   ]
  },
  {
   "cell_type": "markdown",
   "metadata": {},
   "source": [
    "4. Выведите описательные статистики переменных. Ответьте на следующие вопросы:\n",
    "- Какая медианная цена книги в вашем датасете? (1)\n",
    "- Какое возрастное ограничение встречается чаще всего? (1)\n",
    "- Какое среднее число отзывов в книге? (1)\n",
    "- Сколько книг имеют оценку ниже 4.25? (1)\n",
    "- В каком году было написано больше всего книг из датасета? (1)"
   ]
  },
  {
   "cell_type": "code",
   "execution_count": 56,
   "metadata": {},
   "outputs": [
    {
     "name": "stdout",
     "output_type": "stream",
     "text": [
      "Медианная цена книги: 339.0\n",
      "Чаще всего встречается Возраст\n",
      "Возрастное ограничение: 0+    531\n",
      "Name: count, dtype: int64\n",
      "Среднее число отзывов в книге: 2.3177083333333335\n",
      "Число книг имеющих оценку ниже 4.25:  558\n",
      "Больше всего книг написано в :  Год\n",
      "2023.0    116\n",
      "Name: count, dtype: int64\n"
     ]
    }
   ],
   "source": [
    "median_value = df['Цена'].median()\n",
    "print(f'Медианная цена книги: {median_value}')\n",
    "class_counts = df['Возраст'].value_counts().iloc[:1]\n",
    "print(f'Чаще всего встречается {class_counts}')\n",
    "average_otzoviy = df['Количество отзывов'].fillna(0).mean()\n",
    "print(f'Среднее число отзывов в книге: {average_otzoviy.astype(float)}')\n",
    "number_of_books_loweer_than = (df['Рейтинг']<4.25).sum()\n",
    "print(f'Число книг имеющих оценку ниже 4.25:  {number_of_books_loweer_than}')\n",
    "\n",
    "productivity_year = df['Год'].value_counts().iloc[:1]\n",
    "print(f'Больше всего книг написано в :  {productivity_year}')"
   ]
  },
  {
   "cell_type": "markdown",
   "metadata": {},
   "source": [
    "5. Если вы работаете с готовым датасетом, то попробуйте \"достать\" из столбца pages количество страниц. Если у вас не получилось, то далее при определении числа страниц пользуйтесь стольцов pages_count. Если вы парсили датасет сами, то вы получаете балл за этот пункт автоматически (1.5)"
   ]
  },
  {
   "cell_type": "markdown",
   "metadata": {},
   "source": [
    "6. Создайте новое поле is_popular. Значение равно 1, если рейтинг книги не менее 4.6 и при этом у нее не менее 5 отзывов, и 0 в остальных случаях. (1)"
   ]
  },
  {
   "cell_type": "code",
   "execution_count": 58,
   "metadata": {},
   "outputs": [
    {
     "data": {
      "text/html": [
       "<div>\n",
       "<style scoped>\n",
       "    .dataframe tbody tr th:only-of-type {\n",
       "        vertical-align: middle;\n",
       "    }\n",
       "\n",
       "    .dataframe tbody tr th {\n",
       "        vertical-align: top;\n",
       "    }\n",
       "\n",
       "    .dataframe thead th {\n",
       "        text-align: right;\n",
       "    }\n",
       "</style>\n",
       "<table border=\"1\" class=\"dataframe\">\n",
       "  <thead>\n",
       "    <tr style=\"text-align: right;\">\n",
       "      <th></th>\n",
       "      <th>Название</th>\n",
       "      <th>Автор</th>\n",
       "      <th>Ссылка</th>\n",
       "      <th>Рейтинг</th>\n",
       "      <th>Количество голосов</th>\n",
       "      <th>Цена</th>\n",
       "      <th>Количество страниц</th>\n",
       "      <th>Количество отзывов</th>\n",
       "      <th>Текст отзывов</th>\n",
       "      <th>Возраст</th>\n",
       "      <th>Год</th>\n",
       "      <th>is_popular</th>\n",
       "    </tr>\n",
       "  </thead>\n",
       "  <tbody>\n",
       "    <tr>\n",
       "      <th>0</th>\n",
       "      <td>Изучаем DDD – предметно-ориентированное проект...</td>\n",
       "      <td>Влад Хононов</td>\n",
       "      <td>https://www.litres.ru/book/vlad-hononov/izucha...</td>\n",
       "      <td>0.0</td>\n",
       "      <td>NaN</td>\n",
       "      <td>549.0</td>\n",
       "      <td>319</td>\n",
       "      <td>1.0</td>\n",
       "      <td>['Обязательно вернусь, но позжеЭта книга из то...</td>\n",
       "      <td>Возрастное ограничение: 0+</td>\n",
       "      <td>2022.0</td>\n",
       "      <td>0</td>\n",
       "    </tr>\n",
       "    <tr>\n",
       "      <th>1</th>\n",
       "      <td>Начинаем программировать на Python</td>\n",
       "      <td>Тони Гэддис</td>\n",
       "      <td>https://www.litres.ru/book/toni-geddis-3249116...</td>\n",
       "      <td>4.9</td>\n",
       "      <td>16.0</td>\n",
       "      <td>599.0</td>\n",
       "      <td>875</td>\n",
       "      <td>6.0</td>\n",
       "      <td>['Шикарная книга! Начал изучать Python самосто...</td>\n",
       "      <td>Возрастное ограничение: 12+</td>\n",
       "      <td>2021.0</td>\n",
       "      <td>1</td>\n",
       "    </tr>\n",
       "    <tr>\n",
       "      <th>2</th>\n",
       "      <td>Высоконагруженные приложения. Программирование...</td>\n",
       "      <td>Мартин Клеппман</td>\n",
       "      <td>https://www.litres.ru/book/martin-kleppman-173...</td>\n",
       "      <td>4.0</td>\n",
       "      <td>51.0</td>\n",
       "      <td>799.0</td>\n",
       "      <td>640</td>\n",
       "      <td>11.0</td>\n",
       "      <td>['Не могу что-либо про перевод сказать, читал ...</td>\n",
       "      <td>Возрастное ограничение: 16+</td>\n",
       "      <td>2017.0</td>\n",
       "      <td>0</td>\n",
       "    </tr>\n",
       "    <tr>\n",
       "      <th>3</th>\n",
       "      <td>System Design. Подготовка к сложному интервью</td>\n",
       "      <td>Алекс Сюй</td>\n",
       "      <td>https://www.litres.ru/book/aleks-suy/system-de...</td>\n",
       "      <td>3.6</td>\n",
       "      <td>17.0</td>\n",
       "      <td>699.0</td>\n",
       "      <td>304</td>\n",
       "      <td>9.0</td>\n",
       "      <td>['Добротная книга по разработке архитектуры пр...</td>\n",
       "      <td>Возрастное ограничение: 16+</td>\n",
       "      <td>2020.0</td>\n",
       "      <td>0</td>\n",
       "    </tr>\n",
       "    <tr>\n",
       "      <th>4</th>\n",
       "      <td>Нейросети начало</td>\n",
       "      <td>Джейд Картер</td>\n",
       "      <td>https://www.litres.ru/book/dzheyd-karter/neyro...</td>\n",
       "      <td>4.9</td>\n",
       "      <td>438.0</td>\n",
       "      <td>690.0</td>\n",
       "      <td>102</td>\n",
       "      <td>37.0</td>\n",
       "      <td>['Книга отличная. Давно хотела понять как все ...</td>\n",
       "      <td>Возрастное ограничение: 12+</td>\n",
       "      <td>2023.0</td>\n",
       "      <td>1</td>\n",
       "    </tr>\n",
       "  </tbody>\n",
       "</table>\n",
       "</div>"
      ],
      "text/plain": [
       "                                            Название            Автор  \\\n",
       "0  Изучаем DDD – предметно-ориентированное проект...     Влад Хононов   \n",
       "1                 Начинаем программировать на Python      Тони Гэддис   \n",
       "2  Высоконагруженные приложения. Программирование...  Мартин Клеппман   \n",
       "3      System Design. Подготовка к сложному интервью        Алекс Сюй   \n",
       "4                                   Нейросети начало     Джейд Картер   \n",
       "\n",
       "                                              Ссылка  Рейтинг  \\\n",
       "0  https://www.litres.ru/book/vlad-hononov/izucha...      0.0   \n",
       "1  https://www.litres.ru/book/toni-geddis-3249116...      4.9   \n",
       "2  https://www.litres.ru/book/martin-kleppman-173...      4.0   \n",
       "3  https://www.litres.ru/book/aleks-suy/system-de...      3.6   \n",
       "4  https://www.litres.ru/book/dzheyd-karter/neyro...      4.9   \n",
       "\n",
       "   Количество голосов   Цена  Количество страниц  Количество отзывов  \\\n",
       "0                 NaN  549.0                 319                 1.0   \n",
       "1                16.0  599.0                 875                 6.0   \n",
       "2                51.0  799.0                 640                11.0   \n",
       "3                17.0  699.0                 304                 9.0   \n",
       "4               438.0  690.0                 102                37.0   \n",
       "\n",
       "                                       Текст отзывов  \\\n",
       "0  ['Обязательно вернусь, но позжеЭта книга из то...   \n",
       "1  ['Шикарная книга! Начал изучать Python самосто...   \n",
       "2  ['Не могу что-либо про перевод сказать, читал ...   \n",
       "3  ['Добротная книга по разработке архитектуры пр...   \n",
       "4  ['Книга отличная. Давно хотела понять как все ...   \n",
       "\n",
       "                       Возраст     Год  is_popular  \n",
       "0   Возрастное ограничение: 0+  2022.0           0  \n",
       "1  Возрастное ограничение: 12+  2021.0           1  \n",
       "2  Возрастное ограничение: 16+  2017.0           0  \n",
       "3  Возрастное ограничение: 16+  2020.0           0  \n",
       "4  Возрастное ограничение: 12+  2023.0           1  "
      ]
     },
     "execution_count": 58,
     "metadata": {},
     "output_type": "execute_result"
    }
   ],
   "source": [
    "df['is_popular'] = ((df['Рейтинг'] >= 4.6) & (df['Количество отзывов'] >= 5)).astype(int)\n",
    "df.head(5)"
   ]
  },
  {
   "cell_type": "markdown",
   "metadata": {},
   "source": [
    "7. Как отличается среднее число страниц среди популярных и непопулярных книг? (2)"
   ]
  },
  {
   "cell_type": "code",
   "execution_count": 59,
   "metadata": {},
   "outputs": [
    {
     "name": "stdout",
     "output_type": "stream",
     "text": [
      "Среднее число страниц среди популярных книг: 344.55263157894734\n",
      "Среднее число страниц среди непопулярных книг: 238.19088937093275\n"
     ]
    }
   ],
   "source": [
    "mean_pages_popular = df[df['is_popular'] == 1]['Количество страниц'].mean()\n",
    "\n",
    "# Вычисляем среднее число страниц для непопулярных книг\n",
    "mean_pages_unpopular = df[df['is_popular'] == 0]['Количество страниц'].mean()\n",
    "\n",
    "# Выводим результаты\n",
    "print(f\"Среднее число страниц среди популярных книг: {mean_pages_popular}\")\n",
    "print(f\"Среднее число страниц среди непопулярных книг: {mean_pages_unpopular}\")"
   ]
  },
  {
   "cell_type": "markdown",
   "metadata": {},
   "source": [
    "8.Выведите топ-10 книг по числу отзывов. (2)."
   ]
  },
  {
   "cell_type": "code",
   "execution_count": 65,
   "metadata": {},
   "outputs": [
    {
     "name": "stdout",
     "output_type": "stream",
     "text": [
      "459                                 Оптимизация в Python\n",
      "4                                       Нейросети начало\n",
      "202    Психбольница в руках пациентов. Алан Купер об ...\n",
      "116    Теоретический минимум по Computer Science. Все...\n",
      "488    Говорят, в IT много платят. Как построить успе...\n",
      "337    Идеальный программист. Как стать профессионало...\n",
      "141    #Сам себе программист. Как научиться программи...\n",
      "423           Базовые знания тестировщика веб-приложений\n",
      "38                   Сделай видеоигру один и не свихнись\n",
      "224                  Сделай видеоигру один и не свихнись\n",
      "Name: Название, dtype: object\n"
     ]
    }
   ],
   "source": [
    "top_10_books = df.sort_values(by='Количество отзывов', ascending=False).head(10)\n",
    "\n",
    "# Выводим результат\n",
    "print(top_10_books['Название'])"
   ]
  },
  {
   "cell_type": "markdown",
   "metadata": {},
   "source": [
    "9. Найдите среднюю длину отзыва (в символах). (2)"
   ]
  },
  {
   "cell_type": "code",
   "execution_count": null,
   "metadata": {},
   "outputs": [],
   "source": [
    "import ast\n",
    "df['Текст отзывов'] = df['Текст отзывов'].apply(ast.literal_eval)\n",
    "# Вычисляем среднюю длину всех отзывов"
   ]
  },
  {
   "cell_type": "code",
   "execution_count": 97,
   "metadata": {},
   "outputs": [
    {
     "name": "stdout",
     "output_type": "stream",
     "text": [
      "Средняя длина отзывов: 192.96334325396825\n"
     ]
    }
   ],
   "source": [
    "mean_review_length = df['Текст отзывов'].apply(\n",
    "    lambda review_list: sum(len(review) for review in review_list) / len(review_list) if review_list else 0\n",
    ").mean()\n",
    "print(f'Средняя длина отзывов: {mean_review_length}')"
   ]
  },
  {
   "cell_type": "markdown",
   "metadata": {},
   "source": [
    "10.Постройте таблицу корреляций числовых переменных.(1) Прокомментируйте результаты. (1)"
   ]
  },
  {
   "cell_type": "code",
   "execution_count": 101,
   "metadata": {},
   "outputs": [
    {
     "name": "stdout",
     "output_type": "stream",
     "text": [
      "                         Год  Количество отзывов   Рейтинг  \\\n",
      "Год                 1.000000           -0.019018  0.293781   \n",
      "Количество отзывов -0.019018            1.000000  0.046807   \n",
      "Рейтинг             0.293781            0.046807  1.000000   \n",
      "Количество голосов  0.087071            0.652487  0.092584   \n",
      "Цена                0.423583            0.106705  0.394578   \n",
      "Количество страниц  0.116130            0.011884  0.400917   \n",
      "Год                 1.000000           -0.019018  0.293781   \n",
      "\n",
      "                    Количество голосов      Цена  Количество страниц       Год  \n",
      "Год                           0.087071  0.423583            0.116130  1.000000  \n",
      "Количество отзывов            0.652487  0.106705            0.011884 -0.019018  \n",
      "Рейтинг                       0.092584  0.394578            0.400917  0.293781  \n",
      "Количество голосов            1.000000  0.139643            0.000205  0.087071  \n",
      "Цена                          0.139643  1.000000            0.558607  0.423583  \n",
      "Количество страниц            0.000205  0.558607            1.000000  0.116130  \n",
      "Год                           0.087071  0.423583            0.116130  1.000000  \n"
     ]
    }
   ],
   "source": [
    "correlation_matrix = df[['Год','Количество отзывов','Рейтинг','Количество голосов','Цена','Количество страниц','Год']].corr()\n",
    "\n",
    "# Вывод таблицы корреляций\n",
    "print(correlation_matrix)"
   ]
  },
  {
   "cell_type": "markdown",
   "metadata": {},
   "source": [
    "Наиболее значимые кореляции заметны в следующих парах:\n",
    "- Количество голосов - Количество отзывов\n",
    "- Цена - количество страниц"
   ]
  },
  {
   "cell_type": "markdown",
   "metadata": {},
   "source": [
    "11. Постройте диаграмму рассеяния (scatterplot) количества страниц и количества отзывов. Не забудьте подписать график и оси. (1) \n",
    "Прокомментируйте полученные результаты. (1)\n",
    "\n"
   ]
  },
  {
   "cell_type": "code",
   "execution_count": 102,
   "metadata": {},
   "outputs": [
    {
     "data": {
      "image/png": "[encoded data removed]",
      "text/plain": [
       "<Figure size 800x600 with 1 Axes>"
      ]
     },
     "metadata": {},
     "output_type": "display_data"
    }
   ],
   "source": [
    "import matplotlib.pyplot as plt\n",
    "plt.figure(figsize=(8, 6))\n",
    "plt.scatter(df['Количество страниц'], df['Количество отзывов'], color='blue')\n",
    "\n",
    "# Подписи осей\n",
    "plt.xlabel('Количество страниц')\n",
    "plt.ylabel('Количество отзывов')\n",
    "\n",
    "# Заголовок графика\n",
    "plt.title('Диаграмма рассеяния: Количество страниц vs Количество отзывов')\n",
    "\n",
    "# Отображение графика\n",
    "plt.show()"
   ]
  },
  {
   "cell_type": "markdown",
   "metadata": {},
   "source": [
    "Какой-либо кореляии не видно.\n",
    "\n",
    "От количества страниц, количество отзывов не увеличивается"
   ]
  },
  {
   "cell_type": "markdown",
   "metadata": {},
   "source": [
    "12. Постройте линейный график: по оси Х год, по оси Y количество книг. (1) Прокомментируйте. (1)"
   ]
  },
  {
   "cell_type": "code",
   "execution_count": 105,
   "metadata": {},
   "outputs": [
    {
     "data": {
      "image/png": "[encoded data removed]",
      "text/plain": [
       "<Figure size 800x600 with 1 Axes>"
      ]
     },
     "metadata": {},
     "output_type": "display_data"
    }
   ],
   "source": [
    "books_per_year = df.groupby('Год').size()\n",
    "\n",
    "plt.figure(figsize=(8, 6))\n",
    "plt.plot(books_per_year.index, books_per_year.values, marker='o', linestyle='-', color='b')\n",
    "\n",
    "\n",
    "plt.xlabel('Год')\n",
    "plt.ylabel('Количество книг')\n",
    "\n",
    "plt.title('Количество книг по годам')\n",
    "\n",
    "\n",
    "plt.grid(True)\n",
    "plt.show()"
   ]
  },
  {
   "cell_type": "markdown",
   "metadata": {},
   "source": [
    "Наблюдается максимум в 2023 году, и резкий рост начиная с 2018.\n",
    "Это можно связать с тем, что мы смотрим популярные книги, в которых есть алгоримты продвигающие новые книги, и в целом новые книги по техническим тема читают чаще, чем старые.\n",
    "\n",
    "Также можно предположить, что рост начинается с 2005 года, возможно это связано с открытием litres\n",
    "\n",
    "**UPD**: https://ru.wikipedia.org/wiki/Литрес - оказалось правдой"
   ]
  },
  {
   "cell_type": "markdown",
   "metadata": {},
   "source": [
    "13. Постройте еще любые два графика по вашему усмотрению. (2) Прокомментируйте полученные результаты. (1.5)"
   ]
  },
  {
   "cell_type": "code",
   "execution_count": 107,
   "metadata": {},
   "outputs": [
    {
     "data": {
      "image/png": "[encoded data removed]",
      "text/plain": [
       "<Figure size 1000x600 with 1 Axes>"
      ]
     },
     "metadata": {},
     "output_type": "display_data"
    }
   ],
   "source": [
    "# Построение диаграммы рассеяния количества страниц против рейтинга\n",
    "plt.figure(figsize=(10, 6))\n",
    "plt.scatter(df['Количество голосов'], df['Количество отзывов'], color='blue', alpha=0.7)\n",
    "plt.title('Зависимость количества голосов от количества отзывов')\n",
    "plt.xlabel('Количество голосов')\n",
    "plt.ylabel('Количество отзывов')\n",
    "plt.grid(True)\n",
    "plt.show()"
   ]
  },
  {
   "cell_type": "markdown",
   "metadata": {},
   "source": [
    "Видна небольшая корелляция между числом голосов и количеством отзывов"
   ]
  },
  {
   "cell_type": "code",
   "execution_count": 114,
   "metadata": {},
   "outputs": [
    {
     "data": {
      "image/png": "[encoded data removed]",
      "text/plain": [
       "<Figure size 1000x600 with 1 Axes>"
      ]
     },
     "metadata": {},
     "output_type": "display_data"
    }
   ],
   "source": [
    "# Построение гистограммы распределения цен\n",
    "plt.figure(figsize=(10, 6))\n",
    "plt.hist(df['Цена'], bins=100, edgecolor='black')\n",
    "plt.title('Распределение цен')\n",
    "plt.xlabel('Цена')\n",
    "plt.ylabel('Частота')\n",
    "plt.grid(True)\n",
    "plt.show()"
   ]
  },
  {
   "cell_type": "markdown",
   "metadata": {},
   "source": [
    "Видно два ценовых пика"
   ]
  },
  {
   "cell_type": "markdown",
   "metadata": {},
   "source": [
    "14. Постройте таблицу с авторами книг с именем автора, количество книг в датасете, средней оценкой книг, средним количеством отзывов. (2)."
   ]
  },
  {
   "cell_type": "code",
   "execution_count": 120,
   "metadata": {},
   "outputs": [
    {
     "name": "stdout",
     "output_type": "stream",
     "text": [
      "                  Автор  Количество книг  Средняя оценка  \\\n",
      "239        Джейд Картер               24        4.937500   \n",
      "604        Тимур Машнин               17        4.682353   \n",
      "312    Е. Ю. Хрусталева               11        3.245455   \n",
      "114     Артем Демиденко               11        4.263636   \n",
      "191     Владимир Дронов               11        4.190909   \n",
      "..                  ...              ...             ...   \n",
      "6          Jeremy Keith                1        3.900000   \n",
      "5    Jean-Loup Chrétien                1        4.300000   \n",
      "4           Jade Carter                1        0.000000   \n",
      "1         C. И. Никишов                1        4.700000   \n",
      "0          Arsen Gonian                1        5.000000   \n",
      "\n",
      "     Среднее количество отзывов  \n",
      "239                   11.900000  \n",
      "604                    3.285714  \n",
      "312                    3.750000  \n",
      "114                    2.142857  \n",
      "191                    3.000000  \n",
      "..                          ...  \n",
      "6                      2.000000  \n",
      "5                      3.000000  \n",
      "4                           NaN  \n",
      "1                      3.000000  \n",
      "0                      1.000000  \n",
      "\n",
      "[672 rows x 4 columns]\n"
     ]
    }
   ],
   "source": [
    "author_stats = df.groupby('Автор').agg(\n",
    "    Количество_книг=('Название', 'size'),\n",
    "    Средняя_оценка=('Рейтинг', 'mean'),\n",
    "    Среднее_количество_отзывов=('Количество отзывов', 'mean')\n",
    ").reset_index()\n",
    "\n",
    "# Переименуем колонки для удобства\n",
    "author_stats.columns = ['Автор', 'Количество книг', 'Средняя оценка', 'Среднее количество отзывов']\n",
    "author_stats = author_stats.sort_values(by='Количество книг', ascending=False)\n",
    "print(author_stats)"
   ]
  },
  {
   "cell_type": "markdown",
   "metadata": {},
   "source": [
    "15. Что еще интересного можно увидеть в этом датасете? Просмотрите на данные и ответьте на какие-нибудь вопросы, на которые не ответили в предыдущим пункте. Мы никак не ограничиваем вашу фантазию! (3)."
   ]
  },
  {
   "cell_type": "markdown",
   "metadata": {},
   "source": [
    "Все что было интересно, я узнал."
   ]
  },
  {
   "cell_type": "markdown",
   "metadata": {},
   "source": []
  }
 ],
 "metadata": {
  "kernelspec": {
   "display_name": "base",
   "language": "python",
   "name": "python3"
  },
  "language_info": {
   "codemirror_mode": {
    "name": "ipython",
    "version": 3
   },
   "file_extension": ".py",
   "mimetype": "text/x-python",
   "name": "python",
   "nbconvert_exporter": "python",
   "pygments_lexer": "ipython3",
   "version": "3.11.9"
  }
 },
 "nbformat": 4,
 "nbformat_minor": 2
}
